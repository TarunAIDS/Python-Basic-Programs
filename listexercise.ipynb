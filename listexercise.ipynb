{
 "cells": [
  {
   "cell_type": "code",
   "execution_count": 2,
   "id": "21787fa0",
   "metadata": {},
   "outputs": [
    {
     "name": "stdout",
     "output_type": "stream",
     "text": [
      "[24, 35, 9, 56, 12]\n"
     ]
    }
   ],
   "source": [
    "#1.Python program to interchange first and last elements in a list\n",
    "\n",
    "def swapList(newList):\n",
    "    size=len(newList)\n",
    "    temp=newList[0]\n",
    "    newList[0]=newList[size - 1]\n",
    "    newList[size-1]=temp\n",
    "    return newList     \n",
    "newList = [12, 35, 9, 56, 24]\n",
    "print(swapList(newList))"
   ]
  },
  {
   "cell_type": "code",
   "execution_count": 3,
   "id": "24407128",
   "metadata": {},
   "outputs": [
    {
     "name": "stdout",
     "output_type": "stream",
     "text": [
      "[19, 65, 23, 90]\n"
     ]
    }
   ],
   "source": [
    "#2.Python program to swap two elements in a list\n",
    "\n",
    "def swapPositions(list,p1,p2):\n",
    "    list[p1],list[p2]=list[p2],list[p1]\n",
    "    return list\n",
    "List=[23,65,19,90]\n",
    "p1,p2=1,3\n",
    "print(swapPositions(List,p1-1,p2-1))"
   ]
  },
  {
   "cell_type": "code",
   "execution_count": 7,
   "id": "cae9d323",
   "metadata": {},
   "outputs": [
    {
     "name": "stdout",
     "output_type": "stream",
     "text": [
      "The list is:[1, 4, 5, 7, 8]\n",
      "Length of list using count method is:5\n",
      "The length of list using len() is: 5\n"
     ]
    }
   ],
   "source": [
    "#3.Python Ways to find length of list\n",
    "\n",
    "test_list=[1,4,5,7,8]\n",
    "print(\"The list is:\"+str(test_list))\n",
    "counter=0\n",
    "for i in test_list:\n",
    "     counter=counter+1\n",
    "print(\"Length of list using count method is:\"+str(counter))\n",
    "print(\"The length of list using len() is:\",len(test_list))"
   ]
  },
  {
   "cell_type": "code",
   "execution_count": 8,
   "id": "5f4b1a52",
   "metadata": {},
   "outputs": [
    {
     "name": "stdout",
     "output_type": "stream",
     "text": [
      "enter number a:4\n",
      "enter number b:5\n",
      "5\n"
     ]
    }
   ],
   "source": [
    "#4.python program to find max of two numbers\n",
    "\n",
    "def maximum(a,b):\n",
    "    if (a>=b):\n",
    "        return a\n",
    "    else:\n",
    "        return b\n",
    "a=int(input(\"enter number a:\"))\n",
    "b=int(input(\"enter number b:\"))\n",
    "print(maximum(a,b))"
   ]
  },
  {
   "cell_type": "code",
   "execution_count": 9,
   "id": "b98ef4b3",
   "metadata": {},
   "outputs": [
    {
     "name": "stdout",
     "output_type": "stream",
     "text": [
      "enter number a:4\n",
      "enter number b:5\n",
      "4\n"
     ]
    }
   ],
   "source": [
    "#5.python program to find min of two numbers\n",
    "\n",
    "def minimum(a,b):\n",
    "    if (a<=b):\n",
    "        return a\n",
    "    else:\n",
    "        return b\n",
    "a=int(input(\"enter number a:\"))\n",
    "b=int(input(\"enter number b:\"))\n",
    "print(minimum(a,b))"
   ]
  },
  {
   "cell_type": "code",
   "execution_count": null,
   "id": "0ca5b7d6",
   "metadata": {},
   "outputs": [],
   "source": []
  }
 ],
 "metadata": {
  "kernelspec": {
   "display_name": "Python 3 (ipykernel)",
   "language": "python",
   "name": "python3"
  },
  "language_info": {
   "codemirror_mode": {
    "name": "ipython",
    "version": 3
   },
   "file_extension": ".py",
   "mimetype": "text/x-python",
   "name": "python",
   "nbconvert_exporter": "python",
   "pygments_lexer": "ipython3",
   "version": "3.9.12"
  }
 },
 "nbformat": 4,
 "nbformat_minor": 5
}
