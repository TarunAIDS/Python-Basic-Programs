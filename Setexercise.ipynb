{
 "cells": [
  {
   "cell_type": "code",
   "execution_count": 1,
   "id": "2c07106f",
   "metadata": {},
   "outputs": [
    {
     "name": "stdout",
     "output_type": "stream",
     "text": [
      "Size of Set1: 472bytes\n",
      "Size of Set2: 472bytes\n",
      "Size of Set3: 216bytes\n"
     ]
    }
   ],
   "source": [
    "#1.Find the size of a Set in Python\n",
    "\n",
    "import sys\n",
    "Set1 = {\"A\", 1, \"B\", 2, \"C\", 3}\n",
    "Set2 = {\"ready\", \"player\", \"one\", \"Nikhil\", \"Geography\", \"Deepanshu\"}\n",
    "Set3 = {(1, \"Lion\"), ( 2, \"Tiger\"), (3, \"Fox\")}\n",
    "print(\"Size of Set1: \" + str(sys.getsizeof(Set1)) + \"bytes\")\n",
    "print(\"Size of Set2: \" + str(sys.getsizeof(Set2)) + \"bytes\")\n",
    "print(\"Size of Set3: \" + str(sys.getsizeof(Set3)) + \"bytes\")"
   ]
  },
  {
   "cell_type": "code",
   "execution_count": 2,
   "id": "9a6dd24d",
   "metadata": {},
   "outputs": [
    {
     "name": "stdout",
     "output_type": "stream",
     "text": [
      "c\n",
      "a\n",
      "l\n",
      "f\n",
      "r\n",
      "t\n",
      "i\n"
     ]
    }
   ],
   "source": [
    "#2.Iterate over a set in Python\n",
    "\n",
    "test_set = set(\"artificial\")\n",
    "for val in test_set:\n",
    "    print(val)"
   ]
  },
  {
   "cell_type": "code",
   "execution_count": null,
   "id": "24ac2505",
   "metadata": {},
   "outputs": [],
   "source": []
  }
 ],
 "metadata": {
  "kernelspec": {
   "display_name": "Python 3 (ipykernel)",
   "language": "python",
   "name": "python3"
  },
  "language_info": {
   "codemirror_mode": {
    "name": "ipython",
    "version": 3
   },
   "file_extension": ".py",
   "mimetype": "text/x-python",
   "name": "python",
   "nbconvert_exporter": "python",
   "pygments_lexer": "ipython3",
   "version": "3.9.12"
  }
 },
 "nbformat": 4,
 "nbformat_minor": 5
}
