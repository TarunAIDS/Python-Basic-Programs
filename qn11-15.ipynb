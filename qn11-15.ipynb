{
 "cells": [
  {
   "cell_type": "code",
   "execution_count": 1,
   "id": "6a73c71c",
   "metadata": {},
   "outputs": [
    {
     "name": "stdout",
     "output_type": "stream",
     "text": [
      "* \r\n",
      "* * \r\n",
      "* * * \r\n",
      "* * * * \r\n",
      "* * * * * \r\n"
     ]
    }
   ],
   "source": [
    "#11.python program to print stars in half triangle shape\n",
    "rows = 5\n",
    "for i in range(0,rows):\n",
    "    for j in range(0,i+1):\n",
    "        print(\"*\", end=' ')\n",
    "    print(\"\\r\")"
   ]
  },
  {
   "cell_type": "code",
   "execution_count": 2,
   "id": "7189d22a",
   "metadata": {},
   "outputs": [
    {
     "name": "stdout",
     "output_type": "stream",
     "text": [
      "enter any string:tarun\n",
      "The original string is:tarun\n",
      "enter position to remove character:1\n",
      "The string after removal of i'th character : trun\n"
     ]
    }
   ],
   "source": [
    "#12.python program to remove characters at ith position and return the remaining string\n",
    "\n",
    "test_str=input(\"enter any string:\")\n",
    "print(\"The original string is:\"+test_str)\n",
    "n=int(input(\"enter position to remove character:\"))  \n",
    "new_str = \"\"\n",
    "for i in range(len(test_str)):\n",
    "    if(i!=n):\n",
    "        new_str = new_str + test_str[i]  \n",
    "print (\"The string after removal of i'th character : \"+new_str)"
   ]
  },
  {
   "cell_type": "code",
   "execution_count": 17,
   "id": "c44ce995",
   "metadata": {},
   "outputs": [
    {
     "name": "stdout",
     "output_type": "stream",
     "text": [
      "15\n",
      "55\n",
      "75\n",
      "150\n",
      "180\n",
      "200\n"
     ]
    }
   ],
   "source": [
    "#13.python program to print characters divisible by 5 from a list\n",
    "\n",
    "List1 = [12,15,32,42,55,75,122,132,150,180,200]\n",
    "for i in range(0, len(List1), 1):\n",
    "    if List1[i]%5==0:\n",
    "        print(List1[i])"
   ]
  },
  {
   "cell_type": "code",
   "execution_count": 21,
   "id": "8a2e38aa",
   "metadata": {},
   "outputs": [
    {
     "name": "stdout",
     "output_type": "stream",
     "text": [
      "enter the string:artificial\n",
      "enter the substring:a\n",
      "2\n"
     ]
    }
   ],
   "source": [
    "#14.python program to print number of times 'hi' occurs in a string.\n",
    "\n",
    "s=input(\"enter the string:\")\n",
    "sb=input(\"enter the substring:\")\n",
    "results = 0\n",
    "sub_len=len(sb)\n",
    "for i in range(len(s)):\n",
    "    if s[i:i+sub_len]==sb:\n",
    "        results+=1\n",
    "print(results)\n",
    " "
   ]
  },
  {
   "cell_type": "code",
   "execution_count": 22,
   "id": "990ba431",
   "metadata": {},
   "outputs": [
    {
     "name": "stdout",
     "output_type": "stream",
     "text": [
      "enter the number of rows:5\n",
      "\n",
      "1 \n",
      "2 2 \n",
      "3 3 3 \n",
      "4 4 4 4 \n"
     ]
    }
   ],
   "source": [
    "#15.python program to print number triangle\n",
    "\n",
    "rows=int(input(\"enter the number of rows:\"))\n",
    "for i in range(rows):\n",
    "    for j in range(i):\n",
    "        print(i, end=' ')\n",
    "    print('')"
   ]
  },
  {
   "cell_type": "code",
   "execution_count": null,
   "id": "5ee46642",
   "metadata": {},
   "outputs": [],
   "source": []
  }
 ],
 "metadata": {
  "kernelspec": {
   "display_name": "Python 3 (ipykernel)",
   "language": "python",
   "name": "python3"
  },
  "language_info": {
   "codemirror_mode": {
    "name": "ipython",
    "version": 3
   },
   "file_extension": ".py",
   "mimetype": "text/x-python",
   "name": "python",
   "nbconvert_exporter": "python",
   "pygments_lexer": "ipython3",
   "version": "3.9.12"
  }
 },
 "nbformat": 4,
 "nbformat_minor": 5
}
