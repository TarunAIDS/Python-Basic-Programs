{
 "cells": [
  {
   "cell_type": "code",
   "execution_count": 3,
   "id": "7a976be1",
   "metadata": {},
   "outputs": [
    {
     "name": "stdout",
     "output_type": "stream",
     "text": [
      "key_value {2: 56, 1: 2, 5: 12, 4: 24, 6: 18, 3: 323}\n",
      "1 2 3 4 5 6 "
     ]
    }
   ],
   "source": [
    "#1.Python program to Sort Python Dictionaries by Key or Value\n",
    "\n",
    "def dictionairy():\n",
    "    key_value = {}\n",
    "    key_value[2] = 56\n",
    "    key_value[1] = 2\n",
    "    key_value[5] = 12\n",
    "    key_value[4] = 24\n",
    "    key_value[6] = 18\n",
    "    key_value[3] = 323\n",
    "    print(\"key_value\", key_value)\n",
    "    for i in sorted(key_value.keys()):\n",
    "        print(i, end=\" \")\n",
    "def main():\n",
    "    dictionairy()\n",
    "if __name__ == \"__main__\":\n",
    "    main()"
   ]
  },
  {
   "cell_type": "code",
   "execution_count": 4,
   "id": "b47818b0",
   "metadata": {},
   "outputs": [
    {
     "name": "stdout",
     "output_type": "stream",
     "text": [
      "OrderedDict([('rajnish', '9'), ('ravi', '10'), ('sanjeev', '15'), ('suraj', '32'), ('yash', '2')])\n"
     ]
    }
   ],
   "source": [
    "#method 2\n",
    "\n",
    "from collections import OrderedDict\n",
    "dict={'ravi': '10', 'rajnish': '9','sanjeev': '15', 'yash': '2', 'suraj': '32'}\n",
    "dict1=OrderedDict(sorted(dict.items()))\n",
    "print(dict1)"
   ]
  },
  {
   "cell_type": "code",
   "execution_count": 5,
   "id": "82c8b34a",
   "metadata": {},
   "outputs": [
    {
     "name": "stdout",
     "output_type": "stream",
     "text": [
      "key_value {2: 56, 1: 2, 5: 12, 4: 24, 6: 18, 3: 323}\n",
      "Task 2:-\n",
      "Keys and Values sorted in alphabetical order by the key  \n",
      "(1, 2) (2, 56) (3, 323) (4, 24) (5, 12) (6, 18) "
     ]
    }
   ],
   "source": [
    "#method 3\n",
    "\n",
    "def dictionairy():\n",
    "    key_value = {}\n",
    "    key_value[2] = 56\n",
    "    key_value[1] = 2\n",
    "    key_value[5] = 12\n",
    "    key_value[4] = 24\n",
    "    key_value[6] = 18\n",
    "    key_value[3] = 323\n",
    "    print(\"key_value\",key_value)\n",
    "    print(\"Task 2:-\\nKeys and Values sorted in\",\"alphabetical order by the key  \")\n",
    "    for i in sorted(key_value):\n",
    "        print((i, key_value[i]), end=\" \")\n",
    "def main():\n",
    "    dictionairy()\n",
    "if __name__ == \"__main__\":\n",
    "    main()"
   ]
  },
  {
   "cell_type": "code",
   "execution_count": 6,
   "id": "6878dc23",
   "metadata": {},
   "outputs": [
    {
     "name": "stdout",
     "output_type": "stream",
     "text": [
      "{(10, 20, 30): 0, (5, 2, 4): 3}\n"
     ]
    }
   ],
   "source": [
    "#2.python dictionary with keys having multiple inputs\n",
    "\n",
    "import random as rn\n",
    "dict = {}\n",
    "x, y, z = 10, 20, 30\n",
    "dict[x, y, z] = x + y - z;\n",
    "x, y, z = 5, 2, 4\n",
    "dict[x, y, z] = x + y - z;\n",
    "print(dict)"
   ]
  },
  {
   "cell_type": "code",
   "execution_count": null,
   "id": "be5cb616",
   "metadata": {},
   "outputs": [],
   "source": []
  }
 ],
 "metadata": {
  "kernelspec": {
   "display_name": "Python 3 (ipykernel)",
   "language": "python",
   "name": "python3"
  },
  "language_info": {
   "codemirror_mode": {
    "name": "ipython",
    "version": 3
   },
   "file_extension": ".py",
   "mimetype": "text/x-python",
   "name": "python",
   "nbconvert_exporter": "python",
   "pygments_lexer": "ipython3",
   "version": "3.9.12"
  }
 },
 "nbformat": 4,
 "nbformat_minor": 5
}
