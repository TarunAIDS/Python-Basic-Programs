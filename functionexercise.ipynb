{
 "cells": [
  {
   "cell_type": "code",
   "execution_count": 2,
   "id": "99968449",
   "metadata": {},
   "outputs": [
    {
     "name": "stdout",
     "output_type": "stream",
     "text": [
      "25\n"
     ]
    }
   ],
   "source": [
    "#1.Python program to find the power of a number using recursion\n",
    "\n",
    "def power(N, P):\n",
    "    if (P==0):\n",
    "        return 1\n",
    "    return (N*power(N, P-1)) \n",
    "N = 5\n",
    "P = 2\n",
    "print(power(N, P))"
   ]
  },
  {
   "cell_type": "code",
   "execution_count": 5,
   "id": "4703d177",
   "metadata": {},
   "outputs": [
    {
     "name": "stdout",
     "output_type": "stream",
     "text": [
      "artificial intelligence and datascience\n"
     ]
    }
   ],
   "source": [
    "#2.Functions that accept variable length key value pair as arguments\n",
    "\n",
    "\n",
    "def concatenate(**arguments):\n",
    "    final_str = \"\"\n",
    "    for elements in arguments.values():\n",
    "        final_str += elements\n",
    "    return final_str\n",
    "if __name__ == '__main__':\n",
    "    print(concatenate(a=\"artificial\", b=\" intelligence\", c=\" and datascience\"))"
   ]
  },
  {
   "cell_type": "code",
   "execution_count": null,
   "id": "33b66cac",
   "metadata": {},
   "outputs": [],
   "source": []
  }
 ],
 "metadata": {
  "kernelspec": {
   "display_name": "Python 3 (ipykernel)",
   "language": "python",
   "name": "python3"
  },
  "language_info": {
   "codemirror_mode": {
    "name": "ipython",
    "version": 3
   },
   "file_extension": ".py",
   "mimetype": "text/x-python",
   "name": "python",
   "nbconvert_exporter": "python",
   "pygments_lexer": "ipython3",
   "version": "3.9.12"
  }
 },
 "nbformat": 4,
 "nbformat_minor": 5
}
