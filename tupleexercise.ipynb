{
 "cells": [
  {
   "cell_type": "code",
   "execution_count": 2,
   "id": "5fa8feeb",
   "metadata": {},
   "outputs": [
    {
     "name": "stdout",
     "output_type": "stream",
     "text": [
      "Size of Tuple1:88bytes\n",
      "Size of Tuple2:88bytes\n",
      "Size of Tuple3:72bytes\n",
      "Size of Tuple1:72bytes\n",
      "Size of Tuple2:72bytes\n",
      "Size of Tuple3:56bytes\n"
     ]
    }
   ],
   "source": [
    "#1.Python program to Find the size of a Tuple\n",
    "\n",
    "import sys\n",
    "t1=(\"A\",1,\"B\",2,\"C\",3)\n",
    "t2=(\"ready\",\"player\",\"one\",\"Nikhil\",\"Geomentry\",\"Deepanshu\")\n",
    "t3=((1,\"Lion\"),( 2,\"Tiger\"),(3,\"Fox\"),(4,\"Wolf\"))\n",
    "print(\"Size of Tuple1:\"+str(sys.getsizeof(t1))+\"bytes\")\n",
    "print(\"Size of Tuple2:\"+str(sys.getsizeof(t2))+\"bytes\")\n",
    "print(\"Size of Tuple3:\"+str(sys.getsizeof(t3))+\"bytes\")\n",
    "print(\"Size of Tuple1:\"+str(t1.__sizeof__())+\"bytes\")\n",
    "print(\"Size of Tuple2:\"+str(t2.__sizeof__())+\"bytes\")\n",
    "print(\"Size of Tuple3:\"+str(t3.__sizeof__())+\"bytes\")"
   ]
  },
  {
   "cell_type": "code",
   "execution_count": 3,
   "id": "35c4e94b",
   "metadata": {},
   "outputs": [
    {
     "name": "stdout",
     "output_type": "stream",
     "text": [
      "The original tuple is :(5, 20, 3, 7, 6, 8)\n",
      "The extracted values:(3, 5, 8, 20)\n"
     ]
    }
   ],
   "source": [
    "#2.Python – Maximum and Minimum K elements in Tuple\n",
    "\n",
    "tup=(5, 20, 3, 7, 6, 8)\n",
    "print(\"The original tuple is :\"+str(tup))\n",
    "K=2\n",
    "res=[]\n",
    "tup=list(sorted(tup))\n",
    "for idx,val in enumerate(tup):\n",
    "    if (idx<K or idx>=len(tup)-K):\n",
    "        res.append(val)\n",
    "res=tuple(res)\n",
    "print(\"The extracted values:\"+str(res))"
   ]
  },
  {
   "cell_type": "code",
   "execution_count": 4,
   "id": "4b62f9be",
   "metadata": {},
   "outputs": [
    {
     "name": "stdout",
     "output_type": "stream",
     "text": [
      "The original tuple is:(7, 8, 9, 1, 10, 7)\n",
      "The summation of tuple elements are:42\n"
     ]
    }
   ],
   "source": [
    "#3.Python – Sum of tuple elements\n",
    "\n",
    "t=(7, 8, 9, 1, 10, 7)\n",
    "print(\"The original tuple is:\"+str(t))\n",
    "res=sum(list(t))\n",
    "print(\"The summation of tuple elements are:\"+str(res)) "
   ]
  },
  {
   "cell_type": "code",
   "execution_count": null,
   "id": "378ca285",
   "metadata": {},
   "outputs": [],
   "source": []
  }
 ],
 "metadata": {
  "kernelspec": {
   "display_name": "Python 3 (ipykernel)",
   "language": "python",
   "name": "python3"
  },
  "language_info": {
   "codemirror_mode": {
    "name": "ipython",
    "version": 3
   },
   "file_extension": ".py",
   "mimetype": "text/x-python",
   "name": "python",
   "nbconvert_exporter": "python",
   "pygments_lexer": "ipython3",
   "version": "3.9.12"
  }
 },
 "nbformat": 4,
 "nbformat_minor": 5
}
