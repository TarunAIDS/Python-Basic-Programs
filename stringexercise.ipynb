{
 "cells": [
  {
   "cell_type": "code",
   "execution_count": 1,
   "id": "c813901b",
   "metadata": {},
   "outputs": [
    {
     "name": "stdout",
     "output_type": "stream",
     "text": [
      "enter the string:malayalam\n",
      "The entered string is palindrome\n",
      "The entered string is not symmetrical\n"
     ]
    }
   ],
   "source": [
    "#1.Python program to check whether the string is Symmetrical or Palindrome\n",
    "\n",
    "def palindrome(a):\n",
    "    mid=(len(a)-1)//2      \n",
    "    start=0              \n",
    "    last=len(a)-1\n",
    "    flag=0\n",
    "    while(start<=mid):\n",
    "        if (a[start]==a[last]):\n",
    "            start+=1\n",
    "            last-=1\n",
    "        else:\n",
    "            flag=1\n",
    "            break;\n",
    "    if flag==0:\n",
    "        print(\"The entered string is palindrome\")\n",
    "    else:\n",
    "        print(\"The entered string is not palindrome\")       \n",
    "def symmetry(a):\n",
    "    n=len(a)\n",
    "    flag=0\n",
    "    if n%2:\n",
    "        mid=n//2+1\n",
    "    else:\n",
    "        mid=n//2\n",
    "    start1=0\n",
    "    start2=mid\n",
    "    while(start1<mid and start2<n):\n",
    "        if (a[start1]==a[start2]):\n",
    "            start1=start1+1\n",
    "            start2 =start2+1\n",
    "        else:\n",
    "            flag=1\n",
    "            break\n",
    "    if flag==0:\n",
    "        print(\"The entered string is symmetrical\")\n",
    "    else:\n",
    "        print(\"The entered string is not symmetrical\")\n",
    "string=input(\"enter the string:\")\n",
    "palindrome(string)\n",
    "symmetry(string)"
   ]
  },
  {
   "cell_type": "code",
   "execution_count": 3,
   "id": "41f47f31",
   "metadata": {},
   "outputs": [
    {
     "name": "stdout",
     "output_type": "stream",
     "text": [
      "enter a string:hello world\n",
      "world hello\n"
     ]
    }
   ],
   "source": [
    "#2.Reverse words in a given String in Python\n",
    "\n",
    "string=input(\"enter a string:\")\n",
    "s=string.split()[::-1]\n",
    "l=[]\n",
    "for i in s:\n",
    "    l.append(i)\n",
    "print(\" \".join(l))"
   ]
  },
  {
   "cell_type": "code",
   "execution_count": null,
   "id": "60228e9d",
   "metadata": {},
   "outputs": [],
   "source": []
  }
 ],
 "metadata": {
  "kernelspec": {
   "display_name": "Python 3 (ipykernel)",
   "language": "python",
   "name": "python3"
  },
  "language_info": {
   "codemirror_mode": {
    "name": "ipython",
    "version": 3
   },
   "file_extension": ".py",
   "mimetype": "text/x-python",
   "name": "python",
   "nbconvert_exporter": "python",
   "pygments_lexer": "ipython3",
   "version": "3.9.12"
  }
 },
 "nbformat": 4,
 "nbformat_minor": 5
}
